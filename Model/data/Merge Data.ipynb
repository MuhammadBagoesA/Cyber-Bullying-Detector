{
 "cells": [
  {
   "cell_type": "markdown",
   "metadata": {},
   "source": [
    "Menggabungkan data json dan tsv menjadi 1 dalam tsv"
   ]
  },
  {
   "cell_type": "code",
   "execution_count": 2,
   "metadata": {},
   "outputs": [],
   "source": [
    "import pandas as pd\n",
    "import json\n",
    "\n",
    "with open('sentiment_data.json') as json_file:\n",
    "    json_data = json.load(json_file)\n",
    "\n",
    "df_json = pd.DataFrame(json_data)\n",
    "\n",
    "df_json['label'] = df_json['sentimen'].replace({'positif': 'Non_CB', 'negatif': 'CB'})\n",
    "\n",
    "df_json = df_json[['id', 'kalimat', 'label']]\n",
    "df_json.columns = ['no', 'text', 'label'] \n",
    "\n",
    "df_tsv = pd.read_csv('id-cyberbullying-instagram.tsv', sep='\\t', encoding='ISO-8859-1')\n",
    "\n",
    "df_combined = pd.concat([df_tsv, df_json], ignore_index=True)\n",
    "\n",
    "df_combined.to_csv('merged_data.tsv', sep='\\t', index=False)\n"
   ]
  }
 ],
 "metadata": {
  "kernelspec": {
   "display_name": "Python 3",
   "language": "python",
   "name": "python3"
  },
  "language_info": {
   "codemirror_mode": {
    "name": "ipython",
    "version": 3
   },
   "file_extension": ".py",
   "mimetype": "text/x-python",
   "name": "python",
   "nbconvert_exporter": "python",
   "pygments_lexer": "ipython3",
   "version": "3.10.4"
  }
 },
 "nbformat": 4,
 "nbformat_minor": 2
}
